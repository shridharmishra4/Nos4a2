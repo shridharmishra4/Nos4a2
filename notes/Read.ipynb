{
 "cells": [
  {
   "cell_type": "code",
   "execution_count": 5,
   "metadata": {},
   "outputs": [],
   "source": [
    "import pika\n",
    "import time"
   ]
  },
  {
   "cell_type": "code",
   "execution_count": 6,
   "metadata": {},
   "outputs": [],
   "source": [
    "connection = pika.BlockingConnection(pika.ConnectionParameters(host='localhost'))\n",
    "channel = connection.channel()"
   ]
  },
  {
   "cell_type": "code",
   "execution_count": 7,
   "metadata": {},
   "outputs": [],
   "source": [
    "exchange_name=\"outgoing\"\n",
    "routing_keys = {\n",
    "    \"SDFNormalized\": 4,\n",
    "    \"SDFAnnotated\": 2,\n",
    "    \"PostProcessingRules\": 5,\n",
    "    \"ReconciliationCompleted\": 1,\n",
    "    \"DocumentClusterGenerated\": 0\n",
    "}"
   ]
  },
  {
   "cell_type": "code",
   "execution_count": 8,
   "metadata": {},
   "outputs": [],
   "source": [
    "channel.exchange_declare(exchange=exchange_name, exchange_type='direct')\n",
    "\n",
    "result = channel.queue_declare(exclusive=True, arguments={\"x-max-priority\": 10})\n",
    "queue_name = result.method.queue\n",
    "for routing_key in routing_keys.keys():\n",
    "    channel.queue_bind(exchange=exchange_name,\n",
    "                       queue=queue_name,\n",
    "                       routing_key=routing_key)"
   ]
  },
  {
   "cell_type": "code",
   "execution_count": null,
   "metadata": {},
   "outputs": [
    {
     "name": "stdout",
     "output_type": "stream",
     "text": [
      " [x] b'What'\n"
     ]
    }
   ],
   "source": [
    "def callback(ch, method, properties, body):\n",
    "    print(\" [x] %r\" % body)\n",
    "\n",
    "channel.basic_consume(callback,\n",
    "                      queue=queue_name,\n",
    "                      no_ack=True)\n",
    "\n",
    "channel.start_consuming()"
   ]
  },
  {
   "cell_type": "code",
   "execution_count": null,
   "metadata": {},
   "outputs": [],
   "source": []
  }
 ],
 "metadata": {
  "kernelspec": {
   "display_name": "Python 3",
   "language": "python",
   "name": "python3"
  },
  "language_info": {
   "codemirror_mode": {
    "name": "ipython",
    "version": 3
   },
   "file_extension": ".py",
   "mimetype": "text/x-python",
   "name": "python",
   "nbconvert_exporter": "python",
   "pygments_lexer": "ipython3",
   "version": "3.6.5"
  }
 },
 "nbformat": 4,
 "nbformat_minor": 2
}
